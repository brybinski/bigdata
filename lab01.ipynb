{
 "cells": [
  {
   "cell_type": "code",
   "execution_count": 1,
   "metadata": {},
   "outputs": [],
   "source": [
    "import pandas as pd\n",
    "from datetime import datetime\n",
    "\n",
    "def count_time(func):\n",
    "    def wrapper(*args, **kwargs):\n",
    "        start = datetime.now()\n",
    "        func(*args, **kwargs)\n",
    "        print(f\"Czas wczytywania {func.__name__}: {datetime.now() - start} sekund\")\n",
    "        return func(*args, **kwargs)\n",
    "    return wrapper\n",
    "\n",
    "def sizeof_fmt(num, suffix=\"B\"):\n",
    "    for unit in (\"\", \"Ki\", \"Mi\", \"Gi\", \"Ti\", \"Pi\", \"Ei\", \"Zi\"):\n",
    "        if abs(num) < 1024.0:\n",
    "            return f\"{num:3.1f}{unit}{suffix}\"\n",
    "        num /= 1024.0\n",
    "    return f\"{num:.1f}Yi{suffix}\"\n",
    "\n",
    "def describe_size(dataframe: pd.DataFrame):\n",
    "    output = ''\n",
    "    tmp = str(sizeof_fmt(sum(dataframe.memory_usage(deep=True))))\n",
    "    print(tmp)\n",
    "    output += tmp +'\\n'\n",
    "    for i in dataframe.columns:\n",
    "        tmp = sizeof_fmt(dataframe[i].memory_usage(deep=True))\n",
    "        print(i, tmp)\n",
    "        output += i + ' ' + tmp +'\\n'\n",
    "\n",
    "    return output\n"
   ]
  },
  {
   "cell_type": "code",
   "execution_count": 2,
   "metadata": {},
   "outputs": [],
   "source": [
    "import glob\n",
    "import fastparquet\n",
    "\n",
    "file_list = glob.glob('/home/ryba/Documents/Code/snek/bigdata/datasets/instagram/private_instagram/*0[0-7].parquet')\n",
    "\n",
    "df = pd.concat([pd.read_parquet(file, engine='fastparquet') for file in file_list], ignore_index=True)\n"
   ]
  },
  {
   "cell_type": "code",
   "execution_count": 3,
   "metadata": {},
   "outputs": [
    {
     "name": "stdout",
     "output_type": "stream",
     "text": [
      "9.9GiB\n",
      "sid 70.0MiB\n",
      "sid_profile 70.0MiB\n",
      "post_id 525.1MiB\n",
      "profile_id 70.0MiB\n",
      "date 595.2MiB\n",
      "post_type 70.0MiB\n",
      "description 4.5GiB\n",
      "likes 70.0MiB\n",
      "comments 70.0MiB\n",
      "username 540.4MiB\n",
      "bio 2.2GiB\n",
      "following 70.0MiB\n",
      "followers 70.0MiB\n",
      "num_posts 70.0MiB\n",
      "is_business_account 8.8MiB\n",
      "lang 446.4MiB\n",
      "category 577.0MiB\n"
     ]
    }
   ],
   "source": [
    "d1 = describe_size(df)\n"
   ]
  },
  {
   "cell_type": "code",
   "execution_count": 4,
   "metadata": {},
   "outputs": [
    {
     "name": "stdout",
     "output_type": "stream",
     "text": [
      "<class 'pandas.core.frame.DataFrame'>\n",
      "RangeIndex: 9178864 entries, 0 to 9178863\n",
      "Data columns (total 17 columns):\n",
      " #   Column               Dtype \n",
      "---  ------               ----- \n",
      " 0   sid                  int64 \n",
      " 1   sid_profile          int64 \n",
      " 2   post_id              object\n",
      " 3   profile_id           int64 \n",
      " 4   date                 object\n",
      " 5   post_type            int64 \n",
      " 6   description          object\n",
      " 7   likes                int64 \n",
      " 8   comments             int64 \n",
      " 9   username             object\n",
      " 10  bio                  object\n",
      " 11  following            int64 \n",
      " 12  followers            int64 \n",
      " 13  num_posts            int64 \n",
      " 14  is_business_account  bool  \n",
      " 15  lang                 object\n",
      " 16  category             object\n",
      "dtypes: bool(1), int64(9), object(7)\n",
      "memory usage: 1.1+ GB\n"
     ]
    }
   ],
   "source": [
    "df.info()\n"
   ]
  },
  {
   "cell_type": "code",
   "execution_count": 5,
   "metadata": {},
   "outputs": [
    {
     "data": {
      "text/plain": [
       "-118195.0"
      ]
     },
     "execution_count": 5,
     "metadata": {},
     "output_type": "execute_result"
    }
   ],
   "source": [
    "import numpy as np\n",
    "s = np.iinfo(np.uint16).max - \t183730.00000\n",
    "s\n"
   ]
  },
  {
   "cell_type": "code",
   "execution_count": 6,
   "metadata": {},
   "outputs": [],
   "source": [
    "def change_dtypes(df: pd.DataFrame, dtype_map: dict) -> pd.DataFrame:\n",
    "    for dtype, columns in dtype_map.items():\n",
    "        if not isinstance(columns, list):\n",
    "            columns = [columns]\n",
    "\n",
    "        for column in columns:\n",
    "            try:\n",
    "                if dtype == 'timestamp':\n",
    "                    df[column] = pd.to_datetime(df[column]).astype('int64') // 10**9\n",
    "                    df[column] = df[column].astype('uint32')\n",
    "                elif isinstance(dtype, list):\n",
    "                    success = False\n",
    "                    for dt in dtype:\n",
    "                        try:\n",
    "                            df[column] = df[column].astype(dt)\n",
    "                            success = True\n",
    "                            break\n",
    "                        except Exception as e:\n",
    "                            pass  # Try the next dtype\n",
    "                    if not success:\n",
    "                        print(f\"Error converting column '{column}' to any of {dtype}\")\n",
    "                else:\n",
    "                    # Single dtype, attempt conversion\n",
    "                    df[column] = df[column].astype(dtype)\n",
    "            except Exception as e:\n",
    "                print(f\"Error converting column '{column}' to '{dtype}': {e}\")\n",
    "    return df\n",
    "\n",
    "df2 = change_dtypes(df, {\n",
    "    'category': ['post_type', 'lang', 'username','category', 'bio', 'profile_id'],\n",
    "    'timestamp': 'date',\n",
    "    'uint32': ['sid', 'likes', 'comments', 'following', 'followers', 'num_posts'],\n",
    "    'int32': 'sid_profile',\n",
    "})\n"
   ]
  },
  {
   "cell_type": "code",
   "execution_count": 7,
   "metadata": {},
   "outputs": [
    {
     "name": "stdout",
     "output_type": "stream",
     "text": [
      "<class 'pandas.core.frame.DataFrame'>\n",
      "RangeIndex: 9178864 entries, 0 to 9178863\n",
      "Data columns (total 17 columns):\n",
      " #   Column               Dtype   \n",
      "---  ------               -----   \n",
      " 0   sid                  uint32  \n",
      " 1   sid_profile          int32   \n",
      " 2   post_id              object  \n",
      " 3   profile_id           category\n",
      " 4   date                 uint32  \n",
      " 5   post_type            category\n",
      " 6   description          object  \n",
      " 7   likes                uint32  \n",
      " 8   comments             uint32  \n",
      " 9   username             category\n",
      " 10  bio                  category\n",
      " 11  following            uint32  \n",
      " 12  followers            uint32  \n",
      " 13  num_posts            uint32  \n",
      " 14  is_business_account  bool    \n",
      " 15  lang                 category\n",
      " 16  category             category\n",
      "dtypes: bool(1), category(6), int32(1), object(2), uint32(7)\n",
      "memory usage: 659.6+ MB\n"
     ]
    },
    {
     "data": {
      "text/plain": [
       "None"
      ]
     },
     "metadata": {},
     "output_type": "display_data"
    }
   ],
   "source": [
    "display(df2.info())\n"
   ]
  },
  {
   "cell_type": "code",
   "execution_count": 8,
   "metadata": {},
   "outputs": [
    {
     "name": "stdout",
     "output_type": "stream",
     "text": [
      "5.7GiB\n",
      "sid 35.0MiB\n",
      "sid_profile 35.0MiB\n",
      "post_id 525.1MiB\n",
      "profile_id 74.0MiB\n",
      "date 35.0MiB\n",
      "post_type 8.8MiB\n",
      "description 4.5GiB\n",
      "likes 35.0MiB\n",
      "comments 35.0MiB\n",
      "username 118.9MiB\n",
      "bio 252.6MiB\n",
      "following 35.0MiB\n",
      "followers 35.0MiB\n",
      "num_posts 35.0MiB\n",
      "is_business_account 8.8MiB\n",
      "lang 8.8MiB\n",
      "category 8.8MiB\n",
      "5.7GiB\n",
      "sid 35.0MiB\n",
      "sid_profile 35.0MiB\n",
      "post_id 525.1MiB\n",
      "profile_id 74.0MiB\n",
      "date 35.0MiB\n",
      "post_type 8.8MiB\n",
      "description 4.5GiB\n",
      "likes 35.0MiB\n",
      "comments 35.0MiB\n",
      "username 118.9MiB\n",
      "bio 252.6MiB\n",
      "following 35.0MiB\n",
      "followers 35.0MiB\n",
      "num_posts 35.0MiB\n",
      "is_business_account 8.8MiB\n",
      "lang 8.8MiB\n",
      "category 8.8MiB\n",
      "\n"
     ]
    }
   ],
   "source": [
    "d2 = describe_size(df2)\n",
    "print(d2)\n",
    "\n"
   ]
  },
  {
   "cell_type": "code",
   "execution_count": 9,
   "metadata": {},
   "outputs": [
    {
     "data": {
      "text/plain": [
       "<Figure size 1200x600 with 0 Axes>"
      ]
     },
     "metadata": {},
     "output_type": "display_data"
    },
    {
     "data": {
      "image/png": "[encoded data removed]",
      "text/plain": [
       "<Figure size 640x480 with 1 Axes>"
      ]
     },
     "metadata": {},
     "output_type": "display_data"
    }
   ],
   "source": [
    "import re\n",
    "import pandas as pd\n",
    "import matplotlib.pyplot as plt\n",
    "\n",
    "def parse_data(data_str):\n",
    "    \"\"\"Parse multiline string data to a DataFrame with sizes in MiB.\"\"\"\n",
    "    lines = data_str.strip().splitlines()[1:]  # Discard the first line\n",
    "    variables, sizes = [], []\n",
    "    \n",
    "    for line in lines:\n",
    "        match = re.match(r\"(\\S+)\\s([\\d.]+)([GM]iB)\", line)\n",
    "        if match:\n",
    "            var_name = match.group(1)\n",
    "            size = float(match.group(2))\n",
    "            unit = match.group(3)\n",
    "            if unit == \"GiB\":\n",
    "                size *= 1024  # Convert GiB to MiB\n",
    "            variables.append(var_name)\n",
    "            sizes.append(size)\n",
    "    \n",
    "    return pd.DataFrame({\"Variable\": variables, \"Size (MiB)\": sizes}).set_index(\"Variable\")\n",
    "\n",
    "def plot_comparison(data_str1, data_str2, n1, n2):\n",
    "    \"\"\"Load two data strings, convert to DataFrames, and plot comparison bar chart.\"\"\"\n",
    "    # Parse both data strings\n",
    "    df1 = parse_data(data_str1)\n",
    "    df2 = parse_data(data_str2)\n",
    "\n",
    "    # Align data by joining on index (Variable name), filling missing values with 0\n",
    "    df = df1.join(df2, lsuffix='_df1', rsuffix='_df2', how='outer').fillna(0)\n",
    "\n",
    "    # Plotting\n",
    "    plt.figure(figsize=(12, 6))\n",
    "    df.plot(kind=\"bar\", width=0.8, color=[\"skyblue\", \"salmon\"], edgecolor=\"black\")\n",
    "    plt.xlabel(\"Variable\")\n",
    "    plt.ylabel(\"Size (MiB)\")\n",
    "    plt.title(\"Memory Usage Comparison\")\n",
    "    plt.xticks(rotation=45, ha='right')\n",
    "    plt.legend([n1, n2], loc=\"upper right\")\n",
    "    plt.tight_layout()\n",
    "    plt.show()\n",
    "\n",
    "plot_comparison(d1, d2, 'Normal', 'Optimized')\n"
   ]
  },
  {
   "cell_type": "code",
   "execution_count": 10,
   "metadata": {},
   "outputs": [
    {
     "name": "stderr",
     "output_type": "stream",
     "text": [
      "/tmp/ipykernel_78352/2845101682.py:3: FutureWarning: The default of observed=False is deprecated and will be changed to True in a future version of pandas. Pass observed=False to retain current behavior or observed=True to adopt the future default and silence this warning.\n",
      "  return df.groupby(col)\n"
     ]
    },
    {
     "name": "stdout",
     "output_type": "stream",
     "text": [
      "Czas wczytywania groupBy: 0:00:00.000242 sekund\n",
      "Czas wczytywania groupBy: 0:00:00.000123 sekund\n"
     ]
    }
   ],
   "source": [
    "@count_time\n",
    "def groupBy(df, col):\n",
    "    return df.groupby(col)\n",
    "\n",
    "x =  groupBy(df, 'category').agg({'likes':['sum','mean'], })\n",
    "del x\n",
    "\n",
    "x =  groupBy(df2, 'category').agg({'likes':['sum','mean']})\n",
    "del x\n",
    "\n",
    "del df\n"
   ]
  },
  {
   "cell_type": "code",
   "execution_count": null,
   "metadata": {},
   "outputs": [],
   "source": [
    "\n"
   ]
  },
  {
   "cell_type": "code",
   "execution_count": 11,
   "metadata": {},
   "outputs": [
    {
     "name": "stdout",
     "output_type": "stream",
     "text": [
      "Czas wczytywania write_parquet: 0:00:12.082569 sekund\n",
      "Czas wczytywania read_parquet_1: 0:00:10.484553 sekund\n"
     ]
    }
   ],
   "source": [
    "import os\n",
    "@count_time\n",
    "def write_parquet():\n",
    "    df2.to_parquet('lab1/df.parquet', engine='fastparquet')\n",
    "\n",
    "@count_time\n",
    "def read_parquet_1():\n",
    "    df3 = pd.read_parquet('lab1/df.parquet', engine='fastparquet')\n",
    "    return df3\n",
    "\n",
    "write_parquet()\n",
    "\n",
    "x = read_parquet_1()\n",
    "del x\n"
   ]
  },
  {
   "cell_type": "code",
   "execution_count": 12,
   "metadata": {},
   "outputs": [
    {
     "name": "stdout",
     "output_type": "stream",
     "text": [
      "Czas wczytywania write_csv_1: 0:03:06.146101 sekund\n",
      "Czas wczytywania read_csv_1: 0:00:32.912591 sekund\n"
     ]
    }
   ],
   "source": [
    "@count_time\n",
    "def write_csv_1():\n",
    "    df2.to_csv('lab1/csv_simple.csv', header=True, index=False)\n",
    "\n",
    "\n",
    "@count_time\n",
    "def read_csv_1():\n",
    "    df3 = pd.read_csv('lab1/csv_simple.csv')\n",
    "    return df3\n",
    "\n",
    "write_csv_1()\n",
    "del df2\n",
    "\n",
    "x = read_csv_1()\n",
    "del x\n"
   ]
  },
  {
   "cell_type": "code",
   "execution_count": 13,
   "metadata": {},
   "outputs": [
    {
     "name": "stdout",
     "output_type": "stream",
     "text": [
      "Czas wczytywania read_csv_2: 0:00:00.006334 sekund\n"
     ]
    }
   ],
   "source": [
    "@count_time\n",
    "def read_csv_2():\n",
    "    df3 = pd.read_csv('lab1/csv_simple.csv', chunksize=1_000_000)\n",
    "    return df3\n",
    "\n",
    "\n",
    "x = read_csv_2()\n",
    "del x\n"
   ]
  },
  {
   "cell_type": "code",
   "execution_count": null,
   "metadata": {},
   "outputs": [
    {
     "name": "stdout",
     "output_type": "stream",
     "text": [
      "Czas wczytywania load_files: 0:00:43.592375 sekund\n",
      "0\n"
     ]
    }
   ],
   "source": [
    "# Słaba optymalizacja pamięciowa\n",
    "os.system('rm -rf ./lab1/csv_chunks')\n",
    "os.system('mkdir ./lab1/csv_chunks')\n",
    "print(os.system('.venv/bin/python lab1.py'))\n"
   ]
  },
  {
   "cell_type": "code",
   "execution_count": null,
   "metadata": {},
   "outputs": [
    {
     "name": "stdout",
     "output_type": "stream",
     "text": [
      "Czas wczytywania load_files: 0:00:38.568001 sekund\n",
      "0\n"
     ]
    }
   ],
   "source": [
    "os.system('rm -rf ./lab1/csv_chunks')\n",
    "os.system('mkdir ./lab1/csv_chunks')\n",
    "# linuxowe voodoo\n",
    "print(os.system('pkexec ionice -c1 -n0 nice -n -10 /home/ryba/Documents/Code/snek/bigdata/.venv/bin/python /home/ryba/Documents/Code/snek/bigdata/lab1.py'))\n"
   ]
  },
  {
   "cell_type": "code",
   "execution_count": 15,
   "metadata": {},
   "outputs": [
    {
     "name": "stdout",
     "output_type": "stream",
     "text": [
      "0\n",
      "[  68]  \u001b[01;34m./lab1\u001b[0m\n",
      "├── [ 644]  \u001b[01;34mcsv_chunks\u001b[0m\n",
      "│   ├── [158M]  \u001b[00mcsv_simple_10.csv\u001b[0m\n",
      "│   ├── [172M]  \u001b[00mcsv_simple_11.csv\u001b[0m\n",
      "│   ├── [168M]  \u001b[00mcsv_simple_12.csv\u001b[0m\n",
      "│   ├── [164M]  \u001b[00mcsv_simple_13.csv\u001b[0m\n",
      "│   ├── [166M]  \u001b[00mcsv_simple_14.csv\u001b[0m\n",
      "│   ├── [163M]  \u001b[00mcsv_simple_15.csv\u001b[0m\n",
      "│   ├── [160M]  \u001b[00mcsv_simple_16.csv\u001b[0m\n",
      "│   ├── [171M]  \u001b[00mcsv_simple_17.csv\u001b[0m\n",
      "│   ├── [171M]  \u001b[00mcsv_simple_18.csv\u001b[0m\n",
      "│   ├── [ 58M]  \u001b[00mcsv_simple_19.csv\u001b[0m\n",
      "│   ├── [197M]  \u001b[00mcsv_simple_1.csv\u001b[0m\n",
      "│   ├── [197M]  \u001b[00mcsv_simple_2.csv\u001b[0m\n",
      "│   ├── [197M]  \u001b[00mcsv_simple_3.csv\u001b[0m\n",
      "│   ├── [199M]  \u001b[00mcsv_simple_4.csv\u001b[0m\n",
      "│   ├── [191M]  \u001b[00mcsv_simple_5.csv\u001b[0m\n",
      "│   ├── [180M]  \u001b[00mcsv_simple_6.csv\u001b[0m\n",
      "│   ├── [156M]  \u001b[00mcsv_simple_7.csv\u001b[0m\n",
      "│   ├── [193M]  \u001b[00mcsv_simple_8.csv\u001b[0m\n",
      "│   ├── [195M]  \u001b[00mcsv_simple_9.csv\u001b[0m\n",
      "│   └── [ 662]  \u001b[00mmanifest\u001b[0m\n",
      "├── [3.2G]  \u001b[00mcsv_simple.csv\u001b[0m\n",
      "└── [1.2G]  \u001b[00mdf.parquet\u001b[0m\n",
      "\n",
      "2 directories, 22 files\n"
     ]
    }
   ],
   "source": [
    "\n",
    "print(os.system('tree -h ./lab1'))\n"
   ]
  },
  {
   "cell_type": "code",
   "execution_count": null,
   "metadata": {},
   "outputs": [],
   "source": []
  }
 ],
 "metadata": {
  "kernelspec": {
   "display_name": ".venv",
   "language": "python",
   "name": "python3"
  },
  "language_info": {
   "codemirror_mode": {
    "name": "ipython",
    "version": 3
   },
   "file_extension": ".py",
   "mimetype": "text/x-python",
   "name": "python",
   "nbconvert_exporter": "python",
   "pygments_lexer": "ipython3",
   "version": "3.13.1"
  }
 },
 "nbformat": 4,
 "nbformat_minor": 2
}
