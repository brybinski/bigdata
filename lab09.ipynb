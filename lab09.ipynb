{
 "cells": [
  {
   "cell_type": "code",
   "execution_count": 1,
   "metadata": {},
   "outputs": [
    {
     "data": {
      "text/plain": [
       "<DAG: tutorial_taskflow_api>"
      ]
     },
     "execution_count": 1,
     "metadata": {},
     "output_type": "execute_result"
    }
   ],
   "source": [
    "import json\n",
    "import pendulum\n",
    "from airflow.decorators import dag, task\n",
    "\n",
    "\n",
    "@dag(\n",
    "    schedule=None,\n",
    "    start_date=pendulum.datetime(2021, 1, 1, tz=\"UTC\"),\n",
    "    catchup=False,\n",
    "    tags=[\"example\"],\n",
    ")\n",
    "\n",
    "def tutorial_taskflow_api():\n",
    "    \"\"\"\n",
    "    ### TaskFlow API Tutorial Documentation\n",
    "    This is a simple data pipeline example which demonstrates the use of\n",
    "    the TaskFlow API using three simple tasks for Extract, Transform, and Load.\n",
    "    Documentation that goes along with the Airflow TaskFlow API tutorial is\n",
    "    located\n",
    "    [here](https://airflow.apache.org/docs/apache-airflow/stable/tutorial_taskflow_api.html)\n",
    "    \"\"\"\n",
    "    @task()\n",
    "    def extract():\n",
    "        \"\"\"\n",
    "        #### Extract task\n",
    "        A simple Extract task to get data ready for the rest of the data\n",
    "        pipeline. In this case, getting data is simulated by reading from a\n",
    "        hardcoded JSON string.\n",
    "        \"\"\"\n",
    "        data_string = '{\"1001\": 301.27, \"1002\": 433.21, \"1003\": 502.22}'\n",
    "\n",
    "        order_data_dict = json.loads(data_string)\n",
    "        return order_data_dict\n",
    "        \n",
    "    @task(multiple_outputs=True)\n",
    "    def transform(order_data_dict: dict):\n",
    "        \"\"\"\n",
    "        #### Transform task\n",
    "        A simple Transform task which takes in the collection of order data and\n",
    "        computes the total order value.\n",
    "        \"\"\"\n",
    "        total_order_value = 0\n",
    "\n",
    "        for value in order_data_dict.values():\n",
    "            total_order_value += value\n",
    "\n",
    "        return {\"total_order_value\": total_order_value}\n",
    "        \n",
    "    @task()\n",
    "    def load(total_order_value: float):\n",
    "        \"\"\"\n",
    "        #### Load task\n",
    "        A simple Load task which takes in the result of the Transform task and\n",
    "        instead of saving it to end user review, just prints it out.\n",
    "        \"\"\"\n",
    "\n",
    "        print(f\"Total order value is: {total_order_value:.2f}\")\n",
    "\n",
    "    # nie jest konieczne jawne deklarowanie zależności między taskami, jeżeli powinny zostać wywołane sekwencyjnie\n",
    "    # kolejność ich wywołania będzie to determinowała w tym przypadku\n",
    "    order_data = extract()\n",
    "    order_summary = transform(order_data)\n",
    "    load(order_summary[\"total_order_value\"])\n",
    "\n",
    "# i ostatecznie uruchomienie całego grafu \n",
    "tutorial_taskflow_api()\n"
   ]
  },
  {
   "cell_type": "code",
   "execution_count": 2,
   "metadata": {},
   "outputs": [
    {
     "name": "stdout",
     "output_type": "stream",
     "text": [
      "\u001b[01;31m\u001b[Kbeautifulsoup\u001b[m\u001b[K4                           4.12.3\n"
     ]
    }
   ],
   "source": [
    "!pip list | grep beautifulsoup\n"
   ]
  },
  {
   "cell_type": "code",
   "execution_count": 4,
   "metadata": {},
   "outputs": [
    {
     "data": {
      "text/plain": [
       "<DAG: bgg_top_games_list>"
      ]
     },
     "execution_count": 4,
     "metadata": {},
     "output_type": "execute_result"
    }
   ],
   "source": [
    "# plik o nazwie bgg_top_games.py\n",
    "import pendulum\n",
    "from datetime import datetime, timedelta\n",
    "from airflow.decorators import dag, task\n",
    "\n",
    "\n",
    "@dag(\n",
    "    schedule=timedelta(days=1),\n",
    "    start_date=pendulum.datetime(2024, 12, 4, tz=\"UTC\"),\n",
    "    catchup=False,\n",
    "    tags=[\"bgg\"],\n",
    ")\n",
    "def bgg_top_games_list():\n",
    "    \"\"\"\n",
    "    ### Zadania polegające na pobraniu aktualnego zestawienia najlepiej ocenianych gier planszowych\n",
    "    z serwisu BoardGameGeek.com w postaci dokumentu HTML, parsowanie i zapisanie w konkretnym formacie\n",
    "    danych.\n",
    "    Adres zestawienia: https://boardgamegeek.com/browse/boardgame\n",
    "    \"\"\"\n",
    "\n",
    "    # @task.bash(cwd='../data/bgg/raw/')\n",
    "    # powyższa linia nie zadziała w naszym przypadku, gdyż narzędzie cwd nie jest zainstalowane w naszym obrazie dockerowym\n",
    "    # będzie więc używana pełna ścieżka\n",
    "    @task.bash\n",
    "    def extract():\n",
    "        \"\"\"\n",
    "        #### Zadanie ekstrakcji danych. Tu można podejść do tego na kilka sposobów. Np. pobrać\n",
    "        dane bezpośrednio z poziomu Pythona, ale dla, żeby pokazać szersze spektrum zadań,\n",
    "        użyte zostanie inne podejście. Dane zostaną pobrane z pomocą BashOperator i polecenia curl.\n",
    "        \"\"\"\n",
    "        base_path = '/home/ryba/airflow/data/bgg/raw/'\n",
    "        filepath = f'{base_path}bgg_{datetime.strftime(datetime.now(), \"%Y-%m-%d\")}.html'\n",
    "        command = f'curl -s https://boardgamegeek.com/browse/boardgame > {filepath} && echo {filepath}'\n",
    "\n",
    "        return command\n",
    "    \n",
    "    @task()\n",
    "    def transform(bgg_page_file: str):\n",
    "        \"\"\"\n",
    "        #### Zadanie transformacji danych.\n",
    "        \"\"\"\n",
    "        from bs4 import BeautifulSoup\n",
    "        import csv\n",
    "\n",
    "        csv_path = '/home/ryba/airflow/data/bgg/csv/'\n",
    "\n",
    "        print(\"-\" * 100)\n",
    "        print(f\"Processing file: {bgg_page_file}\")\n",
    "\n",
    "        try:\n",
    "            with open(bgg_page_file, 'r') as file:\n",
    "                parsed_html = BeautifulSoup(file, 'html.parser')\n",
    "        except OSError as err:\n",
    "            raise OSError()\n",
    "\n",
    "        # parsowanie tabeli i zapisanie danych jako json\n",
    "        table_html = parsed_html.body.find('table', attrs={'class':'collection_table'})\n",
    "\n",
    "        rows = table_html.find_all('tr')\n",
    "        data = []\n",
    "        col_names = []\n",
    "        for row_id, row in enumerate(rows):\n",
    "            if row_id == 0:\n",
    "                col_names = [ele.text.strip() for ele in row.find_all('th')]\n",
    "                continue\n",
    "            cols = [ele.text.strip() for ele in row.find_all('td')]\n",
    "            data.append([ele for ele in cols if ele])\n",
    "\n",
    "        # zapisanie danych w formacie csv\n",
    "        csv_filename = bgg_page_file.split('/')[-1].split('.')[0] + '.csv'\n",
    "        try:\n",
    "            with open(csv_path + csv_filename, 'w') as csvfile:\n",
    "                bggwriter = csv.writer(csvfile, delimiter=',', quotechar='\"', quoting=csv.QUOTE_MINIMAL)\n",
    "                bggwriter.writerow(col_names)\n",
    "                bggwriter.writerows(data)\n",
    "        except OSError as err:\n",
    "            raise OSError()\n",
    "        \n",
    "        return csv_path + csv_filename\n",
    "\n",
    "    @task\n",
    "    def load(bgg_csv_file: str):\n",
    "        import pandas as pd\n",
    "\n",
    "        df = pd.read_csv(bgg_csv_file, header=0)\n",
    "        print(df.info())\n",
    "        print(df.head())\n",
    "        \n",
    "\n",
    "    bgg_page_of_the_day = extract()\n",
    "    bgg_csv = transform(bgg_page_of_the_day)\n",
    "    bgg_pandas_data = load(bgg_csv)\n",
    "\n",
    "\n",
    "bgg_top_games_list()\n"
   ]
  },
  {
   "cell_type": "code",
   "execution_count": null,
   "metadata": {},
   "outputs": [],
   "source": []
  }
 ],
 "metadata": {
  "kernelspec": {
   "display_name": "dask-ml",
   "language": "python",
   "name": "python3"
  },
  "language_info": {
   "codemirror_mode": {
    "name": "ipython",
    "version": 3
   },
   "file_extension": ".py",
   "mimetype": "text/x-python",
   "name": "python",
   "nbconvert_exporter": "python",
   "pygments_lexer": "ipython3",
   "version": "3.12.8"
  }
 },
 "nbformat": 4,
 "nbformat_minor": 2
}
